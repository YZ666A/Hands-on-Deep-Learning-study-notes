{
 "cells": [
  {
   "cell_type": "markdown",
   "metadata": {},
   "source": [
    "[68 Transformer](https://www.bilibili.com/video/BV1Kq4y1H7FL/?spm_id_from=333.788.recommend_more_video.0&vd_source=1d3a7b81d826789081d8b6870d4fff8e)"
   ]
  },
  {
   "cell_type": "markdown",
   "metadata": {},
   "source": [
    "<img src=\"http://zh.d2l.ai/_images/transformer.svg\">"
   ]
  },
  {
   "cell_type": "markdown",
   "metadata": {},
   "source": [
    "<img src=\"picture/截屏2022-06-27 11.03.08.png\">"
   ]
  },
  {
   "cell_type": "markdown",
   "metadata": {},
   "source": [
    "- transformer是完全基于attention的架构, 没有使用到rnn相关内容\n",
    "### 多头注意力\n",
    "- <img src=\"picture/截屏2022-06-27 11.22.06.png\">"
   ]
  },
  {
   "cell_type": "markdown",
   "metadata": {},
   "source": [
    "多头注意力:这个概念有点类似于卷积只中的多通道数, 多头注意力可以理解为创建多个attention层, 每个attention采用单独的全连接层与之对应, 多个attention的输出结合起来, 最后通过全连接层输出. "
   ]
  },
  {
   "cell_type": "markdown",
   "metadata": {},
   "source": [
    "<img src=\"picture/截屏2022-06-27 17.17.26.png\">"
   ]
  },
  {
   "cell_type": "markdown",
   "metadata": {},
   "source": [
    "q k v 都是可学习参数, 头i是第i个attention层, 对应的W均是可学习参数, 多个attention进行contact后进入全新的全连接层,此全连接层也是可学习的参数"
   ]
  },
  {
   "cell_type": "markdown",
   "metadata": {},
   "source": [
    "<img src=\"picture/截屏2022-06-27 17.28.49.png\">"
   ]
  },
  {
   "cell_type": "markdown",
   "metadata": {},
   "source": [
    "由于attention没有时间信息, 那么输入的时间，在中间的第i个输出可以看到所有的信息，这个步骤在编码阶段是允许的，但是在解码阶段并不允许，我们可以通过掩码的方式来屏蔽后面的参数，其实就是之前的soft_mask函数"
   ]
  },
  {
   "cell_type": "markdown",
   "metadata": {},
   "source": [
    "<img src=\"picture/屏幕截图 2022-06-28 004010.png\">"
   ]
  },
  {
   "cell_type": "markdown",
   "metadata": {},
   "source": [
    "这个浅蓝块块是两个mlp组成，输入维度为：（batch_size批量大小，number_step时间步数或序列长度，hidden_size隐单元数或特征维度）"
   ]
  },
  {
   "cell_type": "markdown",
   "metadata": {},
   "source": [
    "<img src=\"picture/屏幕截图 2022-06-28 011405.png\">"
   ]
  },
  {
   "cell_type": "markdown",
   "metadata": {},
   "source": [
    "如果还是用之前的batch_norm来进行参数归一化的话，会出现一个问题，就是在nlp领域，由于使用了soft_mask函数，那么也就是n这个维度会随着vaild_lens的变化而变化，这种情况下，BN的效果并不好，"
   ]
  },
  {
   "cell_type": "markdown",
   "metadata": {},
   "source": [
    "batch_norm 是在(batch_size,number_step)的矩阵上归一化，layer_norm是以每个(number_step,hidden_size)"
   ]
  },
  {
   "cell_type": "markdown",
   "metadata": {},
   "source": [
    "<img src=\"picture/屏幕截图 2022-06-28 013436.png\">"
   ]
  },
  {
   "cell_type": "markdown",
   "metadata": {},
   "source": [
    "这一块还是看代码，看这个具体kv如何来的，以及context如何生成"
   ]
  },
  {
   "cell_type": "markdown",
   "metadata": {},
   "source": [
    "<img src=\"picture/屏幕截图 2022-06-28 013656.png\">"
   ]
  },
  {
   "cell_type": "markdown",
   "metadata": {},
   "source": [
    "<img src=\"picture/屏幕截图 2022-06-28 014030.png\">"
   ]
  },
  {
   "cell_type": "code",
   "execution_count": null,
   "metadata": {},
   "outputs": [],
   "source": []
  }
 ],
 "metadata": {
  "kernelspec": {
   "display_name": "Python 3.8.13 ('d2l')",
   "language": "python",
   "name": "python3"
  },
  "language_info": {
   "codemirror_mode": {
    "name": "ipython",
    "version": 3
   },
   "file_extension": ".py",
   "mimetype": "text/x-python",
   "name": "python",
   "nbconvert_exporter": "python",
   "pygments_lexer": "ipython3",
   "version": "3.8.13"
  },
  "orig_nbformat": 4,
  "vscode": {
   "interpreter": {
    "hash": "db1be6f39172faa660bce7f133330141f4fce14b9a8c52849f571eb71f2e9d01"
   }
  }
 },
 "nbformat": 4,
 "nbformat_minor": 2
}
