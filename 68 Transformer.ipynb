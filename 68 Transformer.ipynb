{
 "cells": [
  {
   "cell_type": "markdown",
   "metadata": {},
   "source": [
    "[68 Transformer](https://www.bilibili.com/video/BV1Kq4y1H7FL/?spm_id_from=333.788.recommend_more_video.0&vd_source=1d3a7b81d826789081d8b6870d4fff8e)"
   ]
  },
  {
   "cell_type": "markdown",
   "metadata": {},
   "source": [
    "<img src=\"picture/截屏2022-06-27 11.03.08.png\">"
   ]
  },
  {
   "cell_type": "markdown",
   "metadata": {},
   "source": [
    "- transformer是完全基于attention的架构, 没有使用到rnn相关内容\n",
    "### 多头注意力\n",
    "- <img src=\"picture/截屏2022-06-27 11.22.06.png\">"
   ]
  },
  {
   "cell_type": "markdown",
   "metadata": {},
   "source": [
    "多头注意力:这个概念有点类似于卷积只中的多通道数, 多头注意力可以理解为创建多个attention层, 每个attention采用单独的全连接层与之对应, 多个attention的输出结合起来, 最后通过全连接层输出. "
   ]
  },
  {
   "cell_type": "markdown",
   "metadata": {},
   "source": [
    "<img src=\"picture/截屏2022-06-27 17.17.26.png\">"
   ]
  },
  {
   "cell_type": "markdown",
   "metadata": {},
   "source": [
    "q k v 都是可学习参数, 头i是第i个attention层, 对应的W均是可学习参数, 多个attention进行contact后进入全新的全连接层,此全连接层也是可学习的参数"
   ]
  },
  {
   "cell_type": "markdown",
   "metadata": {},
   "source": [
    "<img src=\"picture/截屏2022-06-27 17.28.49.png\">"
   ]
  },
  {
   "cell_type": "markdown",
   "metadata": {},
   "source": [
    "由于attention没有时间信息, 那么输入的时间"
   ]
  },
  {
   "cell_type": "code",
   "execution_count": 3,
   "metadata": {},
   "outputs": [],
   "source": [
    "text = {\"list_TotalEnergy\":[\"41863.07\",\"39761.22\",\"37737.48\",\"36183.27\",\"35660.13\",\"36679.87\",\"34638.28\",\"35052.64\",\"38697.63\",\"41469.17\",\"45034.79\",\"49098.28\",\"48650.24\",\"49197.16\",\"46941.28\",\"47350.33\",\"47128.62\",\"46116.55\",\"45935.5\",\"46137.26\",\"48019.22\",\"48616.28\",\"46826.3\",\"45637.08\"],\"list_24\":[\"1:00\",\"2:00\",\"3:00\",\"4:00\",\"5:00\",\"6:00\",\"7:00\",\"8:00\",\"9:00\",\"10:00\",\"11:00\",\"12:00\",\"13:00\",\"14:00\",\"15:00\",\"16:00\",\"17:00\",\"18:00\",\"19:00\",\"20:00\",\"21:00\",\"22:00\",\"23:00\",\"24:00\"],\"list_MarketEnergy\":[\"41935.63\",\"41642.01\",\"41068.91\",\"41024.66\",\"41008.79\",\"41190.06\",\"40222.7\",\"40078.31\",\"41482.98\",\"42181.87\",\"42528.59\",\"42129.44\",\"41954.05\",\"43369.41\",\"43101.67\",\"43253.39\",\"43510.06\",\"43111.97\",\"42493.48\",\"42269.75\",\"42485.84\",\"42639.87\",\"42153.29\",\"42220.97\"]}"
   ]
  },
  {
   "cell_type": "code",
   "execution_count": 1,
   "metadata": {},
   "outputs": [],
   "source": [
    "import pandas as pd"
   ]
  },
  {
   "cell_type": "code",
   "execution_count": 4,
   "metadata": {},
   "outputs": [
    {
     "data": {
      "text/html": [
       "<div>\n",
       "<style scoped>\n",
       "    .dataframe tbody tr th:only-of-type {\n",
       "        vertical-align: middle;\n",
       "    }\n",
       "\n",
       "    .dataframe tbody tr th {\n",
       "        vertical-align: top;\n",
       "    }\n",
       "\n",
       "    .dataframe thead th {\n",
       "        text-align: right;\n",
       "    }\n",
       "</style>\n",
       "<table border=\"1\" class=\"dataframe\">\n",
       "  <thead>\n",
       "    <tr style=\"text-align: right;\">\n",
       "      <th></th>\n",
       "      <th>list_TotalEnergy</th>\n",
       "      <th>list_24</th>\n",
       "      <th>list_MarketEnergy</th>\n",
       "    </tr>\n",
       "  </thead>\n",
       "  <tbody>\n",
       "    <tr>\n",
       "      <th>0</th>\n",
       "      <td>41863.07</td>\n",
       "      <td>1:00</td>\n",
       "      <td>41935.63</td>\n",
       "    </tr>\n",
       "    <tr>\n",
       "      <th>1</th>\n",
       "      <td>39761.22</td>\n",
       "      <td>2:00</td>\n",
       "      <td>41642.01</td>\n",
       "    </tr>\n",
       "    <tr>\n",
       "      <th>2</th>\n",
       "      <td>37737.48</td>\n",
       "      <td>3:00</td>\n",
       "      <td>41068.91</td>\n",
       "    </tr>\n",
       "    <tr>\n",
       "      <th>3</th>\n",
       "      <td>36183.27</td>\n",
       "      <td>4:00</td>\n",
       "      <td>41024.66</td>\n",
       "    </tr>\n",
       "    <tr>\n",
       "      <th>4</th>\n",
       "      <td>35660.13</td>\n",
       "      <td>5:00</td>\n",
       "      <td>41008.79</td>\n",
       "    </tr>\n",
       "    <tr>\n",
       "      <th>5</th>\n",
       "      <td>36679.87</td>\n",
       "      <td>6:00</td>\n",
       "      <td>41190.06</td>\n",
       "    </tr>\n",
       "    <tr>\n",
       "      <th>6</th>\n",
       "      <td>34638.28</td>\n",
       "      <td>7:00</td>\n",
       "      <td>40222.7</td>\n",
       "    </tr>\n",
       "    <tr>\n",
       "      <th>7</th>\n",
       "      <td>35052.64</td>\n",
       "      <td>8:00</td>\n",
       "      <td>40078.31</td>\n",
       "    </tr>\n",
       "    <tr>\n",
       "      <th>8</th>\n",
       "      <td>38697.63</td>\n",
       "      <td>9:00</td>\n",
       "      <td>41482.98</td>\n",
       "    </tr>\n",
       "    <tr>\n",
       "      <th>9</th>\n",
       "      <td>41469.17</td>\n",
       "      <td>10:00</td>\n",
       "      <td>42181.87</td>\n",
       "    </tr>\n",
       "    <tr>\n",
       "      <th>10</th>\n",
       "      <td>45034.79</td>\n",
       "      <td>11:00</td>\n",
       "      <td>42528.59</td>\n",
       "    </tr>\n",
       "    <tr>\n",
       "      <th>11</th>\n",
       "      <td>49098.28</td>\n",
       "      <td>12:00</td>\n",
       "      <td>42129.44</td>\n",
       "    </tr>\n",
       "    <tr>\n",
       "      <th>12</th>\n",
       "      <td>48650.24</td>\n",
       "      <td>13:00</td>\n",
       "      <td>41954.05</td>\n",
       "    </tr>\n",
       "    <tr>\n",
       "      <th>13</th>\n",
       "      <td>49197.16</td>\n",
       "      <td>14:00</td>\n",
       "      <td>43369.41</td>\n",
       "    </tr>\n",
       "    <tr>\n",
       "      <th>14</th>\n",
       "      <td>46941.28</td>\n",
       "      <td>15:00</td>\n",
       "      <td>43101.67</td>\n",
       "    </tr>\n",
       "    <tr>\n",
       "      <th>15</th>\n",
       "      <td>47350.33</td>\n",
       "      <td>16:00</td>\n",
       "      <td>43253.39</td>\n",
       "    </tr>\n",
       "    <tr>\n",
       "      <th>16</th>\n",
       "      <td>47128.62</td>\n",
       "      <td>17:00</td>\n",
       "      <td>43510.06</td>\n",
       "    </tr>\n",
       "    <tr>\n",
       "      <th>17</th>\n",
       "      <td>46116.55</td>\n",
       "      <td>18:00</td>\n",
       "      <td>43111.97</td>\n",
       "    </tr>\n",
       "    <tr>\n",
       "      <th>18</th>\n",
       "      <td>45935.5</td>\n",
       "      <td>19:00</td>\n",
       "      <td>42493.48</td>\n",
       "    </tr>\n",
       "    <tr>\n",
       "      <th>19</th>\n",
       "      <td>46137.26</td>\n",
       "      <td>20:00</td>\n",
       "      <td>42269.75</td>\n",
       "    </tr>\n",
       "    <tr>\n",
       "      <th>20</th>\n",
       "      <td>48019.22</td>\n",
       "      <td>21:00</td>\n",
       "      <td>42485.84</td>\n",
       "    </tr>\n",
       "    <tr>\n",
       "      <th>21</th>\n",
       "      <td>48616.28</td>\n",
       "      <td>22:00</td>\n",
       "      <td>42639.87</td>\n",
       "    </tr>\n",
       "    <tr>\n",
       "      <th>22</th>\n",
       "      <td>46826.3</td>\n",
       "      <td>23:00</td>\n",
       "      <td>42153.29</td>\n",
       "    </tr>\n",
       "    <tr>\n",
       "      <th>23</th>\n",
       "      <td>45637.08</td>\n",
       "      <td>24:00</td>\n",
       "      <td>42220.97</td>\n",
       "    </tr>\n",
       "  </tbody>\n",
       "</table>\n",
       "</div>"
      ],
      "text/plain": [
       "   list_TotalEnergy list_24 list_MarketEnergy\n",
       "0          41863.07    1:00          41935.63\n",
       "1          39761.22    2:00          41642.01\n",
       "2          37737.48    3:00          41068.91\n",
       "3          36183.27    4:00          41024.66\n",
       "4          35660.13    5:00          41008.79\n",
       "5          36679.87    6:00          41190.06\n",
       "6          34638.28    7:00           40222.7\n",
       "7          35052.64    8:00          40078.31\n",
       "8          38697.63    9:00          41482.98\n",
       "9          41469.17   10:00          42181.87\n",
       "10         45034.79   11:00          42528.59\n",
       "11         49098.28   12:00          42129.44\n",
       "12         48650.24   13:00          41954.05\n",
       "13         49197.16   14:00          43369.41\n",
       "14         46941.28   15:00          43101.67\n",
       "15         47350.33   16:00          43253.39\n",
       "16         47128.62   17:00          43510.06\n",
       "17         46116.55   18:00          43111.97\n",
       "18          45935.5   19:00          42493.48\n",
       "19         46137.26   20:00          42269.75\n",
       "20         48019.22   21:00          42485.84\n",
       "21         48616.28   22:00          42639.87\n",
       "22          46826.3   23:00          42153.29\n",
       "23         45637.08   24:00          42220.97"
      ]
     },
     "execution_count": 4,
     "metadata": {},
     "output_type": "execute_result"
    }
   ],
   "source": [
    "pd.DataFrame(text)"
   ]
  }
 ],
 "metadata": {
  "kernelspec": {
   "display_name": "Python 3.8.13 ('d2l')",
   "language": "python",
   "name": "python3"
  },
  "language_info": {
   "codemirror_mode": {
    "name": "ipython",
    "version": 3
   },
   "file_extension": ".py",
   "mimetype": "text/x-python",
   "name": "python",
   "nbconvert_exporter": "python",
   "pygments_lexer": "ipython3",
   "version": "3.8.13"
  },
  "orig_nbformat": 4,
  "vscode": {
   "interpreter": {
    "hash": "f7aa0bfac01ce1e861177f7ddac38fea2b037d61c5b30928011344cb8e12ea48"
   }
  }
 },
 "nbformat": 4,
 "nbformat_minor": 2
}
