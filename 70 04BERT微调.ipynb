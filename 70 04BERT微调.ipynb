{
 "cells": [
  {
   "cell_type": "markdown",
   "metadata": {},
   "source": [
    "[70 BERT微调](https://www.bilibili.com/video/BV15L4y1v7ts?spm_id_from=333.999.0.0&vd_source=1d3a7b81d826789081d8b6870d4fff8e)"
   ]
  },
  {
   "cell_type": "markdown",
   "metadata": {},
   "source": [
    "<img src=\"picture/屏幕截图 2022-07-28 001539.png\">"
   ]
  },
  {
   "cell_type": "markdown",
   "metadata": {},
   "source": [
    "- 句子分类\n",
    "  - 句子分类是把句子的第一个词进行向量化，然后将这个向量交给接下来的网络进行分类预测\n",
    "  - 为什么仅仅用第一个词就能实现分类呢？\n",
    "    - 李沐大佬的解释：\n",
    "    - bert可以自学习，能够在后面的学习中更新参数，使得一个足够\n",
    "    - bert在编码的过程中，就已经通过上下文进行了学习"
   ]
  },
  {
   "cell_type": "markdown",
   "metadata": {},
   "source": [
    "<img src=\"picture/截屏2022-07-28 17.36.25.png\">"
   ]
  },
  {
   "cell_type": "markdown",
   "metadata": {},
   "source": [
    "- 命名实体识别\n",
    "  - 识别一个词元是不是命名实体,例如人名, 机构, 位置\n",
    "  - 将非特殊词元放进全连接层\n",
    "- 将真正的token(不是cls seq pad这种), 取出后,放入全连接层\n",
    "- 分类可以不止一种, 例如apple可以是iPhone 可以是吃的苹果"
   ]
  },
  {
   "cell_type": "markdown",
   "metadata": {},
   "source": [
    "<img src=\"picture/截屏2022-07-28 17.58.55.png\">"
   ]
  },
  {
   "cell_type": "markdown",
   "metadata": {},
   "source": [
    "- 问题问答\n",
    "  - 一个问题Q和一个描述文字A, 需要从A中找出一个片段作为回答\n",
    "    - 答案一般是一个单词或者短语, 但也有部分是一个句子\n",
    "  - "
   ]
  },
  {
   "cell_type": "code",
   "execution_count": null,
   "metadata": {},
   "outputs": [],
   "source": []
  }
 ],
 "metadata": {
  "kernelspec": {
   "display_name": "Python 3.8.13 ('d2l')",
   "language": "python",
   "name": "python3"
  },
  "language_info": {
   "codemirror_mode": {
    "name": "ipython",
    "version": 3
   },
   "file_extension": ".py",
   "mimetype": "text/x-python",
   "name": "python",
   "nbconvert_exporter": "python",
   "pygments_lexer": "ipython3",
   "version": "3.8.13"
  },
  "orig_nbformat": 4,
  "vscode": {
   "interpreter": {
    "hash": "db1be6f39172faa660bce7f133330141f4fce14b9a8c52849f571eb71f2e9d01"
   }
  }
 },
 "nbformat": 4,
 "nbformat_minor": 2
}
