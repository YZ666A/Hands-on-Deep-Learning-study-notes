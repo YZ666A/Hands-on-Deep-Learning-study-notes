{
 "cells": [
  {
   "cell_type": "markdown",
   "metadata": {},
   "source": [
    "<img src=\"picture/屏幕截图 2022-07-28 001539.png\">"
   ]
  },
  {
   "cell_type": "markdown",
   "metadata": {},
   "source": [
    "- 句子分类\n",
    "  - 句子分类是把句子的第一个词进行向量化，然后将这个向量交给接下来的网络进行分类预测\n",
    "  - 为什么仅仅用第一个词就能实现分类呢？\n",
    "    - 李沐大佬的解释：\n",
    "    - bert可以自学习，能够在后面的学习中更新参数，使得一个足够\n",
    "    - bert在编码的过程中，就已经通过上下文进行了学习"
   ]
  },
  {
   "cell_type": "code",
   "execution_count": null,
   "metadata": {},
   "outputs": [],
   "source": []
  }
 ],
 "metadata": {
  "language_info": {
   "name": "python"
  },
  "orig_nbformat": 4
 },
 "nbformat": 4,
 "nbformat_minor": 2
}
