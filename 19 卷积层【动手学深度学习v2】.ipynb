{
 "cells": [
  {
   "cell_type": "markdown",
   "metadata": {},
   "source": [
    "[19 卷积层【动手学深度学习v2】](https://www.bilibili.com/video/BV1L64y1m7Nh?spm_id_from=333.999.0.0)"
   ]
  },
  {
   "cell_type": "markdown",
   "metadata": {},
   "source": [
    "### 重新考察全连接层\n",
    "- 将输入输出变为举证(宽度,高度)也就是接下来的(k,L)\n",
    "- 将权重变形为4-D张量(h,w)-(h',w') 也就是输入增加了宽度和高度两个矩阵\n",
    "- 为什么是4维不是三维，因为单个像素可能包含有其他信息，因此最好是用二维矩阵表示\n",
    "- $$h_{i,j} = \\sum_{k,l} W_{i,j,k,l} x_{k,l} = \\sum_{a,b} V_{i,j,a,b}x_{i+a,j+b}$$\n",
    "- V是W的重新索引$V_{i,j,a,b} = W_{i,j,i+a,j+b}$\n",
    "- 相当于做转换：\n",
    "- $k=i+a $\n",
    "- $l=j+b$"
   ]
  },
  {
   "cell_type": "markdown",
   "metadata": {},
   "source": [
    "### 原则1-平移不变性\n",
    "- x的平移导致h的平移 $h_{i,j} = \\sum_{a,b} v_{i,j,a,b}x_{i+a,j+b}$\n",
    "- v不应依赖与(i,j)\n",
    "- 解决方案：$V_{i,j,a,b} = V_{a,b}$ \n",
    "- 注意：这里的不依赖是假设i,j和v无关，实际操作中,可以理解为$i,j$对w也就是用于卷积的小矩阵的系数没有影响\n",
    "也就是说从头到尾采用固定的卷积核（小矩阵）去依次乘积\n",
    "- 那么进一步简化为$h_{i,j} = \\sum_{a,b} v_{a,b}x_{i+a,j+b}$\n",
    "- 这就是2维卷积（交叉相关）"
   ]
  },
  {
   "cell_type": "markdown",
   "metadata": {},
   "source": [
    "### 原则2-局部性\n",
    "- $h_{i,j} = \\sum_{a,b} v_{a,b}x_{i+a,j+b}$\n",
    "- 当评估$h_{i,j}$的时候，我们不应该用远离$x_{i,j}$的参数\n",
    "- 解决方案：当$|a|,|b|>\\Delta$时候，使得$v_{a,b}=0$\n",
    "- $$h_{i,j} = \\sum_{a=-\\Delta}^\\Delta \\sum_{b=-\\Delta}^\\Delta v_{a,b}x_{i+a,j+b}$$\n",
    "- 这里的意思是，卷积只对$±\\Delta$范围内的数据进行卷积"
   ]
  },
  {
   "cell_type": "markdown",
   "metadata": {},
   "source": [
    "可以看到卷积最后相当于形成了一个特殊的全连接层"
   ]
  },
  {
   "cell_type": "markdown",
   "metadata": {},
   "source": [
    "### 二维卷积层\n",
    "- 输入$X:n_h * n_w$\n",
    "- 核$W: k_h * k_w$\n",
    "- 偏差$b \\in R$ \n",
    "- 输出 $Y:(n_h - k_n +1) \\times(n_w - k_w +1)$\n",
    "  $$Y = X * W +b$$\n",
    "- W和b都是可以学习的参数"
   ]
  },
  {
   "cell_type": "markdown",
   "metadata": {},
   "source": [
    "<img src=\"picture\\屏幕截图 2022-04-19 012840.png\"></a>"
   ]
  },
  {
   "cell_type": "markdown",
   "metadata": {},
   "source": [
    "- 上图展示了不同类似的卷积核能够起到的作用"
   ]
  },
  {
   "cell_type": "markdown",
   "metadata": {},
   "source": [
    "### 交叉相关与卷积\n",
    "- 二维交叉相关\n",
    "- $$y_{i,j} = \\sum_{a=1}^h \\sum_{b=1}^w w_{a,b}x_{i+a,j+b}$$\n",
    "- 二维卷积\n",
    "- $$y_{i,j} = \\sum_{a=1}^h \\sum_{b=1}^w w_{-a,-b}x_{i+a,j+b}$$\n",
    "- 由于对称性，实际使用中没有区别"
   ]
  },
  {
   "cell_type": "markdown",
   "metadata": {},
   "source": [
    "<img src=\"picture\\屏幕截图 2022-04-19 014213.png\"></a>"
   ]
  },
  {
   "cell_type": "markdown",
   "metadata": {},
   "source": [
    "### 总结\n",
    "- 卷积层将输入和核矩阵进行交叉相关，加上偏移后得到输出\n",
    "- 核矩阵和偏移是可学习的参数\n",
    "- 核矩阵的大小是超参数"
   ]
  },
  {
   "cell_type": "markdown",
   "metadata": {},
   "source": [
    "### 代码实现卷积层"
   ]
  },
  {
   "cell_type": "code",
   "execution_count": 1,
   "metadata": {},
   "outputs": [],
   "source": [
    "import torch\n",
    "from torch import nn\n",
    "from d2l import torch as d2l"
   ]
  },
  {
   "cell_type": "code",
   "execution_count": 2,
   "metadata": {},
   "outputs": [],
   "source": [
    "def corr2d(X,K):\n",
    "    \"\"\"计算二维互相关运算\"\"\"\n",
    "    h,w = K.shape\n",
    "    Y = torch.zeros((X.shape[0] - h + 1, X.shape[1] - w + 1))\n",
    "    for i in range(Y.shape[0]):\n",
    "        for j in range(Y.shape[1]):\n",
    "            Y[i, j] = (X[i:i + h, j:j + w] * K).sum()\n",
    "    return Y"
   ]
  },
  {
   "cell_type": "code",
   "execution_count": 3,
   "metadata": {},
   "outputs": [
    {
     "data": {
      "text/plain": [
       "tensor([[19., 25.],\n",
       "        [37., 43.]])"
      ]
     },
     "execution_count": 3,
     "metadata": {},
     "output_type": "execute_result"
    }
   ],
   "source": [
    "X = torch.tensor([[0.0, 1.0, 2.0], [3.0, 4.0, 5.0], [6.0, 7.0, 8.0]])\n",
    "K = torch.tensor([[0.0, 1.0], [2.0, 3.0]])\n",
    "corr2d(X, K)"
   ]
  },
  {
   "cell_type": "code",
   "execution_count": 4,
   "metadata": {},
   "outputs": [],
   "source": [
    "# 实现二维卷积层\n",
    "class Conv2D(nn.Module):\n",
    "    def __init__(self, kernel_size):\n",
    "        # kernel size为超参数，也就是核函数的大小\n",
    "        super().__init__()\n",
    "        self.weight = nn.Parameter(torch.rand(kernel_size))\n",
    "        self.bias = nn.Parameter(torch.zeros(1))\n",
    "    def forward(self, x):\n",
    "        return corr2d(x, self.weight) + self.bias"
   ]
  },
  {
   "cell_type": "code",
   "execution_count": 5,
   "metadata": {},
   "outputs": [
    {
     "data": {
      "text/plain": [
       "tensor([[1., 1., 0., 0., 0., 0., 1., 1.],\n",
       "        [1., 1., 0., 0., 0., 0., 1., 1.],\n",
       "        [1., 1., 0., 0., 0., 0., 1., 1.],\n",
       "        [1., 1., 0., 0., 0., 0., 1., 1.],\n",
       "        [1., 1., 0., 0., 0., 0., 1., 1.],\n",
       "        [1., 1., 0., 0., 0., 0., 1., 1.]])"
      ]
     },
     "execution_count": 5,
     "metadata": {},
     "output_type": "execute_result"
    }
   ],
   "source": [
    "#  图像中⽬标的边缘检测\n",
    "# 如下是卷积层的⼀个简单应⽤：通过找到像素变化的位置，来检测图像中不同颜⾊的边缘。⾸先，我们构造\n",
    "# ⼀个6 X 8 像素的⿊⽩图像。中间四列为⿊⾊（0），其余像素为⽩⾊（1）。\n",
    "X = torch.ones((6,8))\n",
    "X[:,2:6] = 0\n",
    "X"
   ]
  },
  {
   "cell_type": "code",
   "execution_count": 6,
   "metadata": {},
   "outputs": [],
   "source": [
    "# 神奇的小核\n",
    "K = torch.tensor([[1.0, -1.0]])"
   ]
  },
  {
   "cell_type": "code",
   "execution_count": 7,
   "metadata": {},
   "outputs": [
    {
     "data": {
      "text/plain": [
       "tensor([[ 0.,  1.,  0.,  0.,  0., -1.,  0.],\n",
       "        [ 0.,  1.,  0.,  0.,  0., -1.,  0.],\n",
       "        [ 0.,  1.,  0.,  0.,  0., -1.,  0.],\n",
       "        [ 0.,  1.,  0.,  0.,  0., -1.,  0.],\n",
       "        [ 0.,  1.,  0.,  0.,  0., -1.,  0.],\n",
       "        [ 0.,  1.,  0.,  0.,  0., -1.,  0.]])"
      ]
     },
     "execution_count": 7,
     "metadata": {},
     "output_type": "execute_result"
    }
   ],
   "source": [
    "Y = corr2d(X, K)\n",
    "Y"
   ]
  },
  {
   "cell_type": "code",
   "execution_count": 8,
   "metadata": {},
   "outputs": [
    {
     "data": {
      "text/plain": [
       "tensor([[0., 0., 0., 0., 0.],\n",
       "        [0., 0., 0., 0., 0.],\n",
       "        [0., 0., 0., 0., 0.],\n",
       "        [0., 0., 0., 0., 0.],\n",
       "        [0., 0., 0., 0., 0.],\n",
       "        [0., 0., 0., 0., 0.],\n",
       "        [0., 0., 0., 0., 0.],\n",
       "        [0., 0., 0., 0., 0.]])"
      ]
     },
     "execution_count": 8,
     "metadata": {},
     "output_type": "execute_result"
    }
   ],
   "source": [
    "# 现在我们将输⼊的⼆维图像转置，再进⾏如上的互相关运算。其输出如下，之前检测到的垂直边缘消失了。\n",
    "# 不出所料，这个卷积核K只可以检测垂直边缘，⽆法检测⽔平边缘。\n",
    "corr2d(X.t(), K)"
   ]
  },
  {
   "cell_type": "markdown",
   "metadata": {},
   "source": [
    "### 学习卷积核\n",
    "如果我们只需寻找⿊⽩边缘，那么以上[1, -1] 的边缘检测器⾜以。然而，当有了更复杂数值的卷积核，或\n",
    "者连续的卷积层时，我们不可能⼿动设计过滤器。那么我们是否可以学习由X⽣成Y的卷积核呢？\n",
    "现在让我们看看是否可以通过仅查看“输⼊-输出”对来学习由X ⽣成Y 的卷积核。我们先构造⼀个卷积层，\n",
    "并将其卷积核初始化为随机张量。接下来，在每次迭代中，我们⽐较Y 与卷积层输出的平⽅误差，然后计算\n",
    "梯度来更新卷积核。为了简单起⻅，我们在此使⽤内置的⼆维卷积层，并忽略偏置。"
   ]
  },
  {
   "cell_type": "code",
   "execution_count": 9,
   "metadata": {},
   "outputs": [
    {
     "name": "stdout",
     "output_type": "stream",
     "text": [
      "batch 2, loss 9.162\n",
      "batch 4, loss 2.752\n",
      "batch 6, loss 0.959\n",
      "batch 8, loss 0.365\n",
      "batch 10, loss 0.145\n"
     ]
    }
   ],
   "source": [
    "# 构造⼀个⼆维卷积层，它具有1个输出通道和形状为（1，2）的卷积核\n",
    "conv2d = nn.Conv2d(1,1, kernel_size=(1, 2), bias=False)\n",
    "# 这个⼆维卷积层使⽤四维输⼊和输出格式（批量⼤⼩、通道、⾼度、宽度），\n",
    "# 其中批量⼤⼩和通道数都为1\n",
    "X = X.reshape((1, 1, 6, 8))\n",
    "Y = Y.reshape((1, 1, 6, 7))\n",
    "for i in range(10):\n",
    "    # 卷积计算\n",
    "    Y_hat = conv2d(X)\n",
    "    # 均方误差\n",
    "    l = (Y_hat - Y) ** 2\n",
    "    # 梯度设为0\n",
    "    conv2d.zero_grad()\n",
    "    # 梯度下降\n",
    "    l.sum().backward()\n",
    "# 迭代卷积核\n",
    "    conv2d.weight.data[:] -= 3e-2 * conv2d.weight.grad\n",
    "    if (i + 1) % 2 == 0:\n",
    "        print(f'batch {i+1}, loss {l.sum():.3f}')"
   ]
  }
 ],
 "metadata": {
  "kernelspec": {
   "display_name": "Python 3.8.13 ('d2l')",
   "language": "python",
   "name": "python3"
  },
  "language_info": {
   "codemirror_mode": {
    "name": "ipython",
    "version": 3
   },
   "file_extension": ".py",
   "mimetype": "text/x-python",
   "name": "python",
   "nbconvert_exporter": "python",
   "pygments_lexer": "ipython3",
   "version": "3.8.13"
  },
  "orig_nbformat": 4,
  "vscode": {
   "interpreter": {
    "hash": "f7aa0bfac01ce1e861177f7ddac38fea2b037d61c5b30928011344cb8e12ea48"
   }
  }
 },
 "nbformat": 4,
 "nbformat_minor": 2
}
