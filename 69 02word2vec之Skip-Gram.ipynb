{
 "cells": [
  {
   "cell_type": "markdown",
   "metadata": {},
   "source": [
    "- 直接就这视频往下看是看不懂的，我们有必要先进行一些准备工作"
   ]
  },
  {
   "cell_type": "markdown",
   "metadata": {},
   "source": [
    "## [词嵌入（Word2vec）](https://zhuanlan.zhihu.com/p/27234078)"
   ]
  },
  {
   "cell_type": "markdown",
   "metadata": {},
   "source": [
    "- [注解版,结合着看](/%E9%99%84%E5%BD%9518%20%E7%90%86%E8%A7%A3%20Word2Vec%20%E4%B9%8B%20Skip-Gram%20%E6%A8%A1%E5%9E%8B%20-%20%E7%9F%A5%E4%B9%8E.html)"
   ]
  },
  {
   "cell_type": "markdown",
   "metadata": {},
   "source": [
    "- 什么是词嵌入？\n",
    "  - Word2Vec是从大量文本语料中以无监督的方式学习语义知识的一种模型，它被大量地用在自然语言处理（NLP）中。\n",
    "  - 自然语言是用来表达人脑思维的复杂系统。 在这个系统中，词是意义的基本单元。\n",
    "  - 词向量是用于表示单词意义的向量， 并且还可以被认为是单词的特征向量或表示。 将单词映射到实向量的技术称为词嵌入。\n",
    "  - 那么它是如何帮助我们做自然语言处理呢？\n",
    "    - Word2Vec其实就是通过学习文本来用词向量的方式表征词的语义信息，\n",
    "    - 即通过一个嵌入空间使得语义上相似的单词在该空间内距离很近。\n",
    "    - Embedding其实就是一个映射，将单词从原先所属的空间映射到新的多维空间中，也就是把原先词所在空间嵌入到一个新的空间中去。"
   ]
  },
  {
   "cell_type": "markdown",
   "metadata": {},
   "source": [
    "- Word2Vec模型实际上分为了两个部分，第一部分为建立模型，第二部分是通过模型获取嵌入词向量。\n",
    "- Word2Vec的整个建模过程实际上与自编码器（auto-encoder）的思想很相似，即先基于训练数据构建一个神经网络，\n",
    "- 当这个模型训练好以后，我们并不会用这个训练好的模型处理新的任务，我们真正需要的是这个模型通过训练数据所学得的参数，\n",
    "  - 例如隐层的权重矩阵——后面我们将会看到这些权重在Word2Vec中实际上就是我们试图去学习的“word vectors”。基于训练数据建模的过程，\n",
    "  - 我们给它一个名字叫“Fake Task”，意味着建模并不是我们最终的目的。"
   ]
  },
  {
   "cell_type": "markdown",
   "metadata": {},
   "source": [
    "### 为何独热向量是一个糟糕的选择"
   ]
  },
  {
   "cell_type": "markdown",
   "metadata": {},
   "source": [
    "- 我们曾经使用独热向量来表示词（字符就是单词）。假设词典中不同词的数量（词典大小）为，每个词对应一个从到的不同整数（索引）。\n",
    "- 为了得到索引为的任意词的独热向量表示，我们创建了一个全为0的长度为N的向量，并将位置i的元素设置为1。这样，每个词都被表示为一个长度为N的向量，可以直接由神经网络使用。\n",
    "- 虽然独热向量很容易构建，但它们通常不是一个好的选择。一个主要原因是独热向量不能准确表达不同词之间的相似度，\n",
    "- 比如我们经常使用的“余弦相似度”。对于向量，它们的余弦相似度是它们之间角度的余弦：\n",
    "- $$\\frac{\\mathbf{x}^\\top \\mathbf{y}}{\\|\\mathbf{x}\\| \\|\\mathbf{y}\\|} \\in [-1, 1].$$\n",
    "- 独热向量不能反映向量之间的相似性"
   ]
  },
  {
   "cell_type": "markdown",
   "metadata": {},
   "source": [
    "### 自监督的word2vec\n",
    "- word2vec工具是为了解决上述问题而提出的。\n",
    "  - 它将每个词映射到一个固定长度的向量，这些向量能更好地表达不同词之间的相似性和类比关系。\n",
    "- word2vec工具包含两个模型，\n",
    "  - 即跳元模型（skip-gram） [Mikolov et al., 2013b](/%E9%99%84%E5%BD%9500%20%E5%8F%82%E8%80%83%E6%96%87%E7%8C%AE/NIPS-2013-distributed-representations-of-words-and-phrases-and-their-compositionality-Paper.pdf)和连续词袋（CBOW） [Mikolov et al., 2013a](/%E9%99%84%E5%BD%9500%20%E5%8F%82%E8%80%83%E6%96%87%E7%8C%AE/Efficient%20Estimation%20of%20Word%20Representations%20in%20Vector%20Space.pdf)。\n",
    "  - 对于在语义上有意义的表示，它们的训练依赖于条件概率，条件概率可以被看作是使用语料库中一些词来预测另一些单词。由于是不带标签的数据，因此跳元模型和连续词袋都是自监督模型。"
   ]
  },
  {
   "cell_type": "markdown",
   "metadata": {},
   "source": [
    "这里李沐老师的教材讲的有点乱了，看b乎解释吧"
   ]
  },
  {
   "cell_type": "markdown",
   "metadata": {},
   "source": [
    "1. The Fake Task\n",
    "- 上面提到，训练模型的真正目的是获得模型基于训练数据学得的隐层权重。为了得到这些权重，首先要构建一个完整的神经网络作为“Fake Task”，后面再返回来看通过“Fake Task”如何间接地得到这些词向量。"
   ]
  },
  {
   "cell_type": "markdown",
   "metadata": {},
   "source": [
    "<img src=\"https://pic4.zhimg.com/80/v2-ca21f9b1923e201c4349030a86f6dc1f_720w.png\">"
   ]
  },
  {
   "cell_type": "markdown",
   "metadata": {},
   "source": [
    "- 一图胜千言，具体解释见[附录18](/%E9%99%84%E5%BD%9518%20%E7%90%86%E8%A7%A3%20Word2Vec%20%E4%B9%8B%20Skip-Gram%20%E6%A8%A1%E5%9E%8B%20-%20%E7%9F%A5%E4%B9%8E.html)\n",
    "- 两个关键参数：\n",
    "  - skip_window：这个相当于我们用滑动窗口取词，这个窗口的长度span的左右边界最大长度\n",
    "  - num_skips: 此参数相当于告诉我们，以中心词构建最多有2倍skip_window个词对，我们选取其中num_skips个作为训练样本\n",
    "- 这里单词的输入依旧采用了one_hot编码，"
   ]
  },
  {
   "cell_type": "markdown",
   "metadata": {},
   "source": [
    "### hidden_layer\n",
    "- 如果我们现在想用300个特征来表示一个单词（即每个词可以被表示为300维的向量）。那么隐层的权重矩阵应该为10000行(one_hot编码)，300列（隐层有300个结点）。\n",
    "    - Google在最新发布的基于Google news数据集训练的模型中使用的就是300个特征的词向量。词向量的维度是一个可以调节的超参数（在Python的gensim包中封装的Word2Vec接口默认的词向量大小为100， window_size为5）。"
   ]
  },
  {
   "cell_type": "markdown",
   "metadata": {},
   "source": [
    "- 看下面的图片，左右两张图分别从不同角度代表了输入层-隐层的权重矩阵。左图中每一列代表一个10000维的词向量和隐层单个神经元连接的权重向量。从右边的图来看，每一行实际上代表了每个单词的词向量。\n",
    "- <img src=\"picture/v2-c538566f7d627ce7ca40589f15ca8284_720w.png\">"
   ]
  },
  {
   "cell_type": "markdown",
   "metadata": {},
   "source": [
    "所以我们最终的目标就是学习这个隐层的权重矩阵。\n",
    "我们现在回来接着通过模型的定义来训练我们的这个模型。"
   ]
  },
  {
   "cell_type": "markdown",
   "metadata": {},
   "source": [
    "额外说一句，独热编码后的矩阵是非常稀疏的，矩阵的计算的结果实际上是矩阵对应的向量中值为1的索引，实际计算中是采用这种方式"
   ]
  },
  {
   "cell_type": "markdown",
   "metadata": {},
   "source": [
    "- 第一部分我们了解skip-gram的输入层、隐层、输出层。在第二部分，会继续深入讲如何在skip-gram模型上进行高效的训练。\n",
    "- 第一部分讲解完成后，我们会发现Word2Vec模型是一个超级大的神经网络（权重矩阵规模非常大）。\n",
    "  - 举个栗子，我们拥有10000个单词的词汇表，我们如果想嵌入300维的词向量，那么我们的输入-隐层权重矩阵和隐层-输出层的权重矩阵都会有 10000 x 300 = 300万个权重，在如此庞大的神经网络中进行梯度下降是相当慢的。更糟糕的是，你需要大量的训练数据来调整这些权重并且避免过拟合。百万数量级的权重矩阵和亿万数量级的训练样本意味着训练这个模型将会是个灾难（太凶残了）。"
   ]
  },
  {
   "cell_type": "markdown",
   "metadata": {},
   "source": [
    "- Word2Vec的作者在它的第二篇论文中强调了这些问题，下面是作者在第二篇论文中的三个创新：\n",
    "  1. 将常见的单词组合（word pairs）或者词组作为单个“words”来处理。\n",
    "  2. 对高频次单词进行抽样来减少训练样本的个数。\n",
    "  3. 对优化目标采用“negative sampling”方法，这样每个训练样本的训练只会更新一小部分的模型权重，从而降低计算负担。\n",
    "- 事实证明，对常用词抽样并且对优化目标采用“negative sampling”不仅降低了训练过程中的计算负担，还提高了训练的词向量的质量。"
   ]
  },
  {
   "cell_type": "markdown",
   "metadata": {},
   "source": [
    "### Word pairs and \"phases\"\n",
    "- 论文的作者指出，一些单词组合（或者词组）的含义和拆开以后具有完全不同的意义。比如“Boston Globe”是一种报刊的名字，而单独的“Boston”和“Globe”这样单个的单词却表达不出这样的含义。因此，在文章中只要出现“Boston Globe”，我们就应该把它作为一个单独的词来生成其词向量，而不是将其拆开。同样的例子还有“New York”，“United Stated”等。\n",
    "- 在Google发布的模型中，它本身的训练样本中有来自Google News数据集中的1000亿的单词，但是除了单个单词以外，单词组合（或词组）又有3百万之多。\n",
    "- 具体词汇表见附录"
   ]
  },
  {
   "cell_type": "markdown",
   "metadata": {},
   "source": [
    "### 对高频词抽样(负采样技术)\n",
    "- 对于“the”这种常用高频单词，之前的处理方式会存在下面两个问题：\n",
    "  - the这玩意虽然高频，但其实不含有什么实际有用信息\n",
    "  - （”the“，...）这种形式的训练样本会非常大，甚至可能会超过我们实际所需数量\n",
    "- 解决办法\n",
    "  - Word2Vec通过“抽样”模式来解决这种高频词问题。它的基本思想如下：\n",
    "  - 对于我们在训练原始文本中遇到的每一个单词，它们都有一定概率被我们从文本中删掉，而这个被删除的概率与单词的频率有关。\n",
    "  - 假设skip_window = 5，当删除次窗口中的一个the的时候，会减少10个训练样本"
   ]
  },
  {
   "cell_type": "markdown",
   "metadata": {},
   "source": [
    "### 抽样率\n",
    "- $w_i$ 是一个单词，那么$Z(w_i)$这个单词在所有语料中出现的频次。举个栗子，如果单词“peanut”在10亿规模大小的语料中出现了1000次，那么\n",
    "- $$Z(\"peanut\")=1000/1000000000 = 1e-6$$ "
   ]
  },
  {
   "cell_type": "markdown",
   "metadata": {},
   "source": [
    "- 还有一个参数叫“sample”，这个参数代表一个阈值，\n",
    "- 默认值为0.001（在gensim包中的Word2Vec类说明中，这个参数默认为0.001，文档中对这个参数的解释为“高频词汇随机下采样阈值”）。\n",
    "- 这个值越小意味着这个单词被保留下来的概率越小（即有越大的概率被我们删除）。"
   ]
  },
  {
   "cell_type": "markdown",
   "metadata": {},
   "source": [
    "- $P(w_i)$代表着保留某个单词的概率：$P(w_i)=(\\sqrt{\\frac{Z(w_i)}{0.001}}+1)\\times\\frac{0.001}{Z(w_i)}$"
   ]
  },
  {
   "cell_type": "markdown",
   "metadata": {},
   "source": [
    "<img src=\"data:image/png;base64,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\">"
   ]
  },
  {
   "cell_type": "markdown",
   "metadata": {},
   "source": [
    "- 可以看到，随着单词出现频率的增高，它被采样保留的概率越来越小，我们还可以看到一些有趣的结论：\n",
    "  - 当$Z(w_i)$<=0.0026时，$P(w_i)$=1.0。当单词在语料中出现的频率小于0.0026时，它是100%被保留的，这意味着只有那些在语料中出现频率超过0.26%的单词才会被采样。\n",
    "  - 当$Z(w_i)$<=0.00746时，$P(w_i)$=0.5，意味着这一部分的单词有50%的概率被保留。\n",
    "  - 当$Z(w_i)$<=1时，$P(w_i)$=0.033，意味着这部分单词以3.3%的概率被保留。"
   ]
  },
  {
   "cell_type": "markdown",
   "metadata": {},
   "source": [
    "### 负采样（negative sampling）\n",
    "- 训练一个神经网络意味着要输入训练样本并且不断调整神经元的权重，从而不断提高对目标的准确预测。每当神经网络经过一个训练样本的训练，它的权重就会进行一次调整。\n",
    "\n",
    "  - vocabulary的大小决定了Skip-Gram神经网络将会拥有大规模的权重矩阵，实际中训练起来会非常慢且消耗资源。\n",
    "  - 负采样（negative sampling）不同于原本每个训练样本更新所有的权重，\n",
    "    - 负采样每次让一个训练样本仅仅更新一小部分的权重，这样就会降低梯度下降过程中的计算量。\n"
   ]
  },
  {
   "cell_type": "markdown",
   "metadata": {},
   "source": [
    "  - 当我们用训练样本 ( input word: \"fox\"，output word: \"quick\") 来训练我们的神经网络时，“ fox”和“quick”都是经过one-hot编码的。\n",
    "    - 如果我们的vocabulary大小为10000时，在输出层，我们期望对应“quick”单词的那个神经元结点输出1，其余9999个都应该输出0。\n",
    "    - 在这里，这9999个我们期望输出为0的神经元结点所对应的单词我们称为“negative” word。\n",
    "    - 当使用负采样时，我们将随机选择一小部分的negative words（比如选5个negative words）来更新对应的权重。\n",
    "    - 我们也会对我们的“positive” word进行权重更新（在我们上面的例子中，这个单词指的是”quick“）。\n",
    "  - 在论文中，作者指出指出对于小规模数据集，选择5-20个negative words会比较好，对于大规模数据集可以仅选择2-5个negative words。"
   ]
  },
  {
   "cell_type": "markdown",
   "metadata": {},
   "source": [
    "### 总结：独热编码后的向量是大量的0和一个1，一次只选取少部分0值和1值进行更新\n",
    "- 如果使用了负采样的方法我们仅仅去更新我们的positive word-“quick”的和我们选择的其他5个negative words的结点对应的权重，共计6个输出神经元，相当于每次只更新300*6=1800"
   ]
  },
  {
   "cell_type": "markdown",
   "metadata": {},
   "source": [
    "### 如何选择negative words\n",
    "- 我们使用“一元模型分布（unigram distribution）”来选择“negative words”：\n",
    "- $$P(w_i)=\\frac{f(w_i)^{3/4}}{\\sum^n_{j=0}(f(w_j)^{3/4})}$$\n",
    "- $f(w_j)$代表着单词出现的频次,公式中开3/4的根号完全是基于经验的，论文中提到这个公式的效果要比其它公式更加出色。"
   ]
  },
  {
   "cell_type": "markdown",
   "metadata": {},
   "source": [
    "负采样的C语言实现非常的有趣。unigram table有一个包含了一亿个元素的数组，这个数组是由词汇表中每个单词的索引号填充的，并且这个数组中有重复，也就是说有些单词会出现多次。那么每个单词的索引在这个数组中出现的次数，计算出的负采样概率*1亿=单词在表中出现的次数。"
   ]
  },
  {
   "cell_type": "code",
   "execution_count": null,
   "metadata": {},
   "outputs": [],
   "source": []
  }
 ],
 "metadata": {
  "kernelspec": {
   "display_name": "Python 3.8.13 ('d2l')",
   "language": "python",
   "name": "python3"
  },
  "language_info": {
   "name": "python",
   "version": "3.8.13"
  },
  "orig_nbformat": 4,
  "vscode": {
   "interpreter": {
    "hash": "f7aa0bfac01ce1e861177f7ddac38fea2b037d61c5b30928011344cb8e12ea48"
   }
  }
 },
 "nbformat": 4,
 "nbformat_minor": 2
}
