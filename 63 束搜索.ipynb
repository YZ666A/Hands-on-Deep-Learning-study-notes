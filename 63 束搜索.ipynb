{
 "cells": [
  {
   "cell_type": "markdown",
   "metadata": {},
   "source": [
    "[63 束搜索](https://www.bilibili.com/video/BV1B44y1C7m1?spm_id_from=333.999.0.0&vd_source=1d3a7b81d826789081d8b6870d4fff8e)"
   ]
  },
  {
   "cell_type": "markdown",
   "metadata": {},
   "source": [
    "- 贪心搜索（greedy search）\n",
    "\n",
    "\n",
    "\n",
    "- 在 seq2seq 中使用了贪心搜索来预测序列\n",
    "- 也就是说，对于输出序列的每一时间步，将当前时刻具有最高条件概率的词元输出（softmax层），作为下一个序列，一旦输出序列包含了“<eos>”或者达到最大长度，则输出完成"
   ]
  },
  {
   "cell_type": "markdown",
   "metadata": {},
   "source": [
    "- 但是每次拿概率最大值作为结果去预测，不见得效果一定好如下图所示\n",
    "- <img src='picture/屏幕截图 2022-06-19 200656.png'>\n"
   ]
  },
  {
   "cell_type": "markdown",
   "metadata": {},
   "source": [
    "- 假设场景：这里的第二步选择，如果我不选择最大的0.4，而是选择0.3的话，下一个值的预测概率就会发生变化，如果接下来选择最大的0.6的话，实际效果就比每次都选择最大好。\n",
    "- 那么怎么去解决呢，简单粗暴的就是穷举，这本质上就是排列组合，随着句子的增大几乎不可解。"
   ]
  },
  {
   "cell_type": "markdown",
   "metadata": {},
   "source": [
    "<img src=\"picture/屏幕截图 2022-06-19 213005.png\">"
   ]
  },
  {
   "cell_type": "markdown",
   "metadata": {},
   "source": [
    "- 束搜索，每一个步骤选取前n个最佳排列组合\n",
    "- 举例说明：（这里讨论k=2）第一步选择概率最大的两个，A和B，第二步，AB继续分为2*5=10种情况，接下来选择这10种的最大前两种（假如是AB CE），继续以这两个继续分支。直到选择"
   ]
  },
  {
   "cell_type": "markdown",
   "metadata": {},
   "source": [
    "<img src=\"picture/屏幕截图 2022-06-19 225438.png\">"
   ]
  },
  {
   "cell_type": "markdown",
   "metadata": {},
   "source": [
    "这个公式的主要好处是对长句子的奖励更大，使得其更加倾向于长句子\n",
    "- 可以看出k=1是贪心\n",
    "- k=n是穷举（接近穷举，但还是明显小于穷举）"
   ]
  },
  {
   "cell_type": "markdown",
   "metadata": {},
   "source": [
    "[64 注意力机制](https://www.bilibili.com/video/BV1264y1i7R1/?spm_id_from=333.788.recommend_more_video.-1&vd_source=1d3a7b81d826789081d8b6870d4fff8e)"
   ]
  },
  {
   "cell_type": "markdown",
   "metadata": {},
   "source": [
    "<img src=\"picture/屏幕截图 2022-06-19 234609.png\">"
   ]
  },
  {
   "cell_type": "markdown",
   "metadata": {},
   "source": [
    "从心理学的角度出发\n",
    "\n",
    "\n",
    "\n",
    "动物需要在复杂的环境下有效地关注值得注意的点\n",
    "\n",
    "心理学框架：人类根据随意线索（主动、有意识）和不随意线索选择注意点"
   ]
  },
  {
   "cell_type": "markdown",
   "metadata": {},
   "source": [
    "<img src=\"picture/屏幕截图 2022-06-19 235932.png\">"
   ]
  }
 ],
 "metadata": {
  "kernelspec": {
   "display_name": "Python 3.8.13 ('d2l')",
   "language": "python",
   "name": "python3"
  },
  "language_info": {
   "codemirror_mode": {
    "name": "ipython",
    "version": 3
   },
   "file_extension": ".py",
   "mimetype": "text/x-python",
   "name": "python",
   "nbconvert_exporter": "python",
   "pygments_lexer": "ipython3",
   "version": "3.8.13"
  },
  "orig_nbformat": 4,
  "vscode": {
   "interpreter": {
    "hash": "f7aa0bfac01ce1e861177f7ddac38fea2b037d61c5b30928011344cb8e12ea48"
   }
  }
 },
 "nbformat": 4,
 "nbformat_minor": 2
}
