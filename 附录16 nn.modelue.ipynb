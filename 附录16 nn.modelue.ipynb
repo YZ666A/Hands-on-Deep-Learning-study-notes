{
 "cells": [
  {
   "cell_type": "markdown",
   "metadata": {},
   "source": [
    "### nn.module\n",
    "- 按自己理解去解读"
   ]
  },
  {
   "cell_type": "markdown",
   "metadata": {},
   "source": [
    "- 李沐大佬自定义的nn.module继承了self.training变量\n",
    "- 下面是看到怎么定义的"
   ]
  },
  {
   "cell_type": "code",
   "execution_count": 3,
   "metadata": {},
   "outputs": [],
   "source": [
    "from torch.nn import Module"
   ]
  },
  {
   "cell_type": "markdown",
   "metadata": {},
   "source": [
    "```python\n",
    " def __init__(self) -> None:\n",
    "        \"\"\"\n",
    "        Initializes internal Module state, shared by both nn.Module and ScriptModule.\n",
    "        \"\"\"\n",
    "        torch._C._log_api_usage_once(\"python.nn_module\")\n",
    "\n",
    "        self.training = True\n",
    "        self._parameters: Dict[str, Optional[Parameter]] = OrderedDict()\n",
    "        self._buffers: Dict[str, Optional[Tensor]] = OrderedDict()\n",
    "        self._non_persistent_buffers_set: Set[str] = set()\n",
    "        self._backward_hooks: Dict[int, Callable] = OrderedDict()\n",
    "        self._is_full_backward_hook = None\n",
    "        self._forward_hooks: Dict[int, Callable] = OrderedDict()\n",
    "        self._forward_pre_hooks: Dict[int, Callable] = OrderedDict()\n",
    "        self._state_dict_hooks: Dict[int, Callable] = OrderedDict()\n",
    "        self._load_state_dict_pre_hooks: Dict[int, Callable] = OrderedDict()\n",
    "        self._load_state_dict_post_hooks: Dict[int, Callable] = OrderedDict()\n",
    "        self._modules: Dict[str, Optional['Module']] = OrderedDict()\n",
    "```"
   ]
  },
  {
   "cell_type": "markdown",
   "metadata": {},
   "source": [
    "- 可以看到self.training = True, 只是个布尔值, \n",
    "- 结合李沐大佬的代码,我们可以判断training应该是控制网络是处于训练状态还是预测状态的\n",
    "- (其实李沐大佬应该不止一次使用的次功能,但是直到现在才发现,惭愧)"
   ]
  },
  {
   "cell_type": "markdown",
   "metadata": {},
   "source": [
    "结合我们之前训练完毕的时候,一般是使用net.eval()函数来结束网络的,那net.eval又是如何实现这一功能呢?"
   ]
  },
  {
   "cell_type": "markdown",
   "metadata": {},
   "source": [
    "Module.eval()\n",
    "```python\n",
    "def eval(self: T) -> T:\n",
    "    return self.train(False)\n",
    "```"
   ]
  },
  {
   "cell_type": "markdown",
   "metadata": {},
   "source": [
    "```python\n",
    "def train(self: T, mode: bool = True) -> T:\n",
    "    if not isinstance(mode, bool):\n",
    "        raise ValueError(\"training mode is expected to be boolean\")\n",
    "    self.training = mode\n",
    "    for module in self.children():\n",
    "        module.train(mode)\n",
    "    return self\n",
    "```"
   ]
  },
  {
   "cell_type": "markdown",
   "metadata": {},
   "source": [
    "- 可以看到net.eval()等价于Module.training = False !\n",
    "- 可以看出,net.eval本质上是通过控制nn.Module的training变量,来实现对整个网络处于训练还是预测模式进行控制\n"
   ]
  }
 ],
 "metadata": {
  "kernelspec": {
   "display_name": "Python 3.8.13 ('d2l')",
   "language": "python",
   "name": "python3"
  },
  "language_info": {
   "codemirror_mode": {
    "name": "ipython",
    "version": 3
   },
   "file_extension": ".py",
   "mimetype": "text/x-python",
   "name": "python",
   "nbconvert_exporter": "python",
   "pygments_lexer": "ipython3",
   "version": "3.8.13"
  },
  "orig_nbformat": 4,
  "vscode": {
   "interpreter": {
    "hash": "f7aa0bfac01ce1e861177f7ddac38fea2b037d61c5b30928011344cb8e12ea48"
   }
  }
 },
 "nbformat": 4,
 "nbformat_minor": 2
}
