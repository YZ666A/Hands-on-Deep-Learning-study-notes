{
 "cells": [
  {
   "cell_type": "markdown",
   "metadata": {},
   "source": [
    "<img src=\"https://img-blog.csdnimg.cn/43b282f71f3a4744a7b53e37f70a6c66.png\">"
   ]
  },
  {
   "cell_type": "markdown",
   "metadata": {},
   "source": [
    "这张图很好的阐明了了word to vector和embedding直接的关系"
   ]
  },
  {
   "cell_type": "markdown",
   "metadata": {},
   "source": [
    "补充:注意一点， $u_w$ 和 $\\hat{u}_w$ 是对单词w的两种不同的向量表示。 $u_w$ 来自于矩阵W的行向量，也就是输入层->隐藏层的权重矩阵， $\\hat{u}_w$ 来自于矩阵 的列向量，也就是隐藏层->输出层的权重矩阵。以下，我们将 [公式] 称为单词w的输入向量， [公式] 称为单词w的输出向量。（补充一下，这两类向量，有的文章中也叫做中心词向量和上下文向量）"
   ]
  },
  {
   "cell_type": "markdown",
   "metadata": {},
   "source": [
    "### 连续词袋（CBOW）模型\n",
    "这个模型和跳元模型差别并不大,区别主要在于取词方面 "
   ]
  },
  {
   "cell_type": "markdown",
   "metadata": {},
   "source": [
    "- 假设语料库为 { the quick brown fox jumped over the lazy dog }。\n",
    "- 我们要构造一个目标单词与语境单词的映射关系，其中语境单词指的是目标单词左边和右边的单词。\n",
    "  - 我们要先设定 skip_window 的参数，它代表着我们从目标单词的一侧（左边或右边）可选取词的最远距离。\n",
    "  - 比如当前目标单词为 \"brown\"，设定 skip_window=2，则 \"brown\"对应的整个选词窗口为 [ the, quick, brown, fox,  jumped]。\n",
    "  - 由于 Skip-Gram 模型用目标单词预测语境单词，针对目标单词 \"brown\"可构造样本：（brown -> quick), (brown -> the), (brown -> fox ), (brown -> jumped)。\n",
    "  - 其他样本的构造如下图所示："
   ]
  },
  {
   "cell_type": "markdown",
   "metadata": {},
   "source": [
    "<img src=\"https://pic2.zhimg.com/80/v2-7ba1cedb6eb6c0143563bb61327ed819_720w.jpg\">"
   ]
  },
  {
   "cell_type": "markdown",
   "metadata": {},
   "source": [
    "CBOW 模型用语境单词预测目标单词，针对目标单词 \"brown\"可构造样本：（quick -> brown), ( the -> brown), ( fox ->brown), (jumped -> brown)。可见，其样本构造方式跟 Skip-Gram 模型是反过来的。"
   ]
  },
  {
   "cell_type": "markdown",
   "metadata": {},
   "source": [
    "- 层序softma\n",
    "<img src=\"https://pic2.zhimg.com/v2-fc6168e04945def8db586c92662d6105_b.jpg\">"
   ]
  },
  {
   "cell_type": "code",
   "execution_count": null,
   "metadata": {},
   "outputs": [],
   "source": []
  }
 ],
 "metadata": {
  "kernelspec": {
   "display_name": "Python 3.8.13 ('d2l')",
   "language": "python",
   "name": "python3"
  },
  "language_info": {
   "name": "python",
   "version": "3.8.13"
  },
  "orig_nbformat": 4,
  "vscode": {
   "interpreter": {
    "hash": "db1be6f39172faa660bce7f133330141f4fce14b9a8c52849f571eb71f2e9d01"
   }
  }
 },
 "nbformat": 4,
 "nbformat_minor": 2
}
