{
 "cells": [
  {
   "cell_type": "markdown",
   "metadata": {},
   "source": [
    "[69 BERT预训练](https://www.bilibili.com/video/BV1yU4y1E7Ns?p=2&vd_source=1d3a7b81d826789081d8b6870d4fff8e)"
   ]
  },
  {
   "cell_type": "markdown",
   "metadata": {},
   "source": [
    "- word2vec将相同的预训练向量分配给同一个词，而不考虑词的上下文（如果有的话）。\n",
    "- 形式上，任何词元x的上下文无关表示是函数，其仅将f(x)作为其输入。考虑到自然语言中丰富的多义现象和复杂的语义，上下文无关表示具有明显的局限性。\n",
    "  - 例如，在“a crane is flying”（一只鹤在飞）和“a crane driver came”（一名吊车司机来了）的上下文中，“crane”一词有完全不同的含义；\n",
    "  - 因此，同一个词可以根据上下文被赋予不同的表示。"
   ]
  },
  {
   "cell_type": "markdown",
   "metadata": {},
   "source": [
    "针对其上下文不敏感的问题, 后面也陆续推出了更多的模型, 包括但不限于[TagLM]()"
   ]
  },
  {
   "cell_type": "code",
   "execution_count": null,
   "metadata": {},
   "outputs": [],
   "source": []
  }
 ],
 "metadata": {
  "language_info": {
   "name": "python"
  },
  "orig_nbformat": 4
 },
 "nbformat": 4,
 "nbformat_minor": 2
}
