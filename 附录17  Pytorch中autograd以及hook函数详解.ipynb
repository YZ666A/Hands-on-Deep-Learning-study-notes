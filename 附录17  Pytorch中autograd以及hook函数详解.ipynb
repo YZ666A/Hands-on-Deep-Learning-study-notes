{
 "cells": [
  {
   "cell_type": "code",
   "execution_count": 1,
   "metadata": {},
   "outputs": [],
   "source": [
    "import torch\n",
    "import torch.nn as nn\n",
    "\n",
    "device = torch.device(\"cuda:0\" if torch.cuda.is_available() else \"cpu\")\n",
    "\n",
    "class MyMul(nn.Module):\n",
    "    def forward(self, input):\n",
    "        out = input * 2\n",
    "        return out\n",
    "\n",
    "class MyMean(nn.Module):            # 自定义除法module\n",
    "    def forward(self, input):\n",
    "        out = input/4\n",
    "        return out\n",
    "\n",
    "def tensor_hook(grad):\n",
    "    print('tensor hook')\n",
    "    print('grad:', grad)\n",
    "    return grad\n",
    "\n",
    "class MyNet(nn.Module):\n",
    "    def __init__(self):\n",
    "        super(MyNet, self).__init__()\n",
    "        self.f1 = nn.Linear(4, 1, bias=True)    \n",
    "        self.f2 = MyMean()\n",
    "        self.weight_init()\n",
    "\n",
    "    def forward(self, input):\n",
    "        self.input = input\n",
    "        output = self.f1(input)       # 先进行运算1，后进行运算2\n",
    "        output = self.f2(output)      \n",
    "        return output\n",
    "\n",
    "    def weight_init(self):\n",
    "        self.f1.weight.data.fill_(8.0)    # 这里设置Linear的权重为8\n",
    "        self.f1.bias.data.fill_(2.0)      # 这里设置Linear的bias为2\n",
    "\n",
    "    def my_hook(self, module, grad_input, grad_output):\n",
    "        print('doing my_hook')\n",
    "        print('original grad:', grad_input)\n",
    "        print('original outgrad:', grad_output)\n",
    "        # grad_input = grad_input[0]*self.input   # 这里把hook函数内对grad_input的操作进行了注释，\n",
    "        # grad_input = tuple([grad_input])        # 返回的grad_input必须是tuple，所以我们进行了tuple包装。\n",
    "        # print('now grad:', grad_input)        \n",
    "\n",
    "        return grad_input\n"
   ]
  },
  {
   "cell_type": "code",
   "execution_count": 2,
   "metadata": {},
   "outputs": [
    {
     "name": "stdout",
     "output_type": "stream",
     "text": [
      "result = tensor([20.5000], grad_fn=<DivBackward0>)\n",
      "doing my_hook\n",
      "original grad: (tensor([0.2500]), None)\n",
      "original outgrad: (tensor([1.]),)\n",
      "tensor hook\n",
      "grad: tensor([2., 2., 2., 2.])\n",
      "input.grad: tensor([2., 2., 2., 2.])\n",
      "Parameter containing:\n",
      "tensor([[8., 8., 8., 8.]], requires_grad=True):grad->tensor([[0.2500, 0.5000, 0.7500, 1.0000]])\n",
      "Parameter containing:\n",
      "tensor([2.], requires_grad=True):grad->tensor([0.2500])\n"
     ]
    },
    {
     "name": "stderr",
     "output_type": "stream",
     "text": [
      "/Users/yang/miniconda3/envs/d2l/lib/python3.8/site-packages/torch/nn/modules/module.py:1053: UserWarning: Using a non-full backward hook when the forward contains multiple autograd Nodes is deprecated and will be removed in future versions. This hook will be missing some grad_input. Please use register_full_backward_hook to get the documented behavior.\n",
      "  warnings.warn(\"Using a non-full backward hook when the forward contains multiple autograd Nodes \"\n"
     ]
    }
   ],
   "source": [
    "input = torch.tensor([1, 2, 3, 4], dtype=torch.float32, requires_grad=True).to(device)\n",
    "\n",
    "net = MyNet()\n",
    "net.to(device)\n",
    "\n",
    "net.register_backward_hook(net.my_hook)   # 这两个hook函数一定要result = net(input)执行前执行，因为hook函数实在forward的时候进行绑定的\n",
    "input.register_hook(tensor_hook)\n",
    "result = net(input)\n",
    "\n",
    "print('result =', result)\n",
    "\n",
    "result.backward()\n",
    "\n",
    "print('input.grad:', input.grad)\n",
    "for param in net.parameters():\n",
    "    print('{}:grad->{}'.format(param, param.grad))"
   ]
  }
 ],
 "metadata": {
  "kernelspec": {
   "display_name": "Python 3.8.13 ('d2l')",
   "language": "python",
   "name": "python3"
  },
  "language_info": {
   "codemirror_mode": {
    "name": "ipython",
    "version": 3
   },
   "file_extension": ".py",
   "mimetype": "text/x-python",
   "name": "python",
   "nbconvert_exporter": "python",
   "pygments_lexer": "ipython3",
   "version": "3.8.13"
  },
  "orig_nbformat": 4,
  "vscode": {
   "interpreter": {
    "hash": "f7aa0bfac01ce1e861177f7ddac38fea2b037d61c5b30928011344cb8e12ea48"
   }
  }
 },
 "nbformat": 4,
 "nbformat_minor": 2
}
