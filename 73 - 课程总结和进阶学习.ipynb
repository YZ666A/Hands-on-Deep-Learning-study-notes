{
 "cells": [
  {
   "cell_type": "markdown",
   "metadata": {},
   "source": [
    "[完结撒花!!!](https://www.bilibili.com/video/BV1AL4y1Y7gu?spm_id_from=333.999.0.0&vd_source=1d3a7b81d826789081d8b6870d4fff8e)\n",
    "- <img src=\"picture/截屏2022-07-31 23.41.13.png\">"
   ]
  },
  {
   "cell_type": "markdown",
   "metadata": {},
   "source": []
  }
 ],
 "metadata": {
  "kernelspec": {
   "display_name": "Python 3.8.13 ('d2l')",
   "language": "python",
   "name": "python3"
  },
  "language_info": {
   "name": "python",
   "version": "3.8.13"
  },
  "orig_nbformat": 4,
  "vscode": {
   "interpreter": {
    "hash": "db1be6f39172faa660bce7f133330141f4fce14b9a8c52849f571eb71f2e9d01"
   }
  }
 },
 "nbformat": 4,
 "nbformat_minor": 2
}
