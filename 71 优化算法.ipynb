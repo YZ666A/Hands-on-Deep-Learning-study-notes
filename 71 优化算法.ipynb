{
 "cells": [
  {
   "cell_type": "markdown",
   "metadata": {},
   "source": [
    "[72 优化算法](https://www.bilibili.com/video/BV1bP4y1p7Gq/?spm_id_from=333.788.recommend_more_video.-1&vd_source=1d3a7b81d826789081d8b6870d4fff8e)\n",
    "- 大鱼书基本讲了这一块,简单看看"
   ]
  },
  {
   "cell_type": "markdown",
   "metadata": {},
   "source": [
    " <img src=\"picture/截屏2022-07-31 20.26.19.png\">"
   ]
  },
  {
   "cell_type": "markdown",
   "metadata": {},
   "source": [
    "- 重点理解下数学上的局部最小定义\n",
    "  - 在一定范围内最小\n",
    "- 我们一般都是迭代法寻找最优,但是这很难找到全局最优"
   ]
  },
  {
   "cell_type": "markdown",
   "metadata": {},
   "source": [
    "<img src=\"picture/截屏2022-07-31 21.25.55.png\">"
   ]
  },
  {
   "cell_type": "markdown",
   "metadata": {},
   "source": [
    "<img src=\"picture/截屏2022-07-31 21.35.20.png\">"
   ]
  },
  {
   "cell_type": "markdown",
   "metadata": {},
   "source": [
    "高数讲过的就不讲了\n",
    "- 我们知道凸优化是肯定能找到唯一的全局最小值\n",
    "- 但是目前绝大多数优化都是非凸\n",
    "- 目前机器学习领域就线性和softmax是凸优化\n",
    "- MLP CNN RNN attention基本都是非凸的"
   ]
  },
  {
   "cell_type": "markdown",
   "metadata": {},
   "source": [
    "<img src=\"picture/截屏2022-07-31 22.29.15.png\">"
   ]
  },
  {
   "cell_type": "markdown",
   "metadata": {},
   "source": [
    "- 每次都计算真实的导数是很贵的\n",
    "- 随机取一部分计算梯度即可\n",
    "- 理论上来说,期望是没有区别的,所以影响不大"
   ]
  },
  {
   "cell_type": "markdown",
   "metadata": {},
   "source": [
    "<img src=\"picture/截屏2022-07-31 22.55.26.png\">"
   ]
  },
  {
   "cell_type": "markdown",
   "metadata": {},
   "source": [
    "- 小批量可以利用多核, 加快运算速度"
   ]
  },
  {
   "cell_type": "markdown",
   "metadata": {},
   "source": [
    "- <img src=\"picture/截屏2022-07-31 23.02.14.png\">\n",
    "- 动量法\n",
    "- 梯度平滑会考虑更多以前的梯度值\n",
    "  - 0.99大概考虑50个时刻"
   ]
  },
  {
   "cell_type": "markdown",
   "metadata": {},
   "source": [
    "<img src=\"picture/截屏2022-07-31 23.10.18.png\">\n",
    "- 总体比较平滑,适合不怎么调参使用\n",
    "- 对学习率不那么敏感"
   ]
  },
  {
   "cell_type": "code",
   "execution_count": null,
   "metadata": {},
   "outputs": [],
   "source": []
  }
 ],
 "metadata": {
  "kernelspec": {
   "display_name": "Python 3.8.13 ('d2l')",
   "language": "python",
   "name": "python3"
  },
  "language_info": {
   "name": "python",
   "version": "3.8.13"
  },
  "orig_nbformat": 4,
  "vscode": {
   "interpreter": {
    "hash": "db1be6f39172faa660bce7f133330141f4fce14b9a8c52849f571eb71f2e9d01"
   }
  }
 },
 "nbformat": 4,
 "nbformat_minor": 2
}
